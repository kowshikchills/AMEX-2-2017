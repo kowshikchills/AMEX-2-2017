{
 "cells": [
  {
   "cell_type": "code",
   "execution_count": 1,
   "metadata": {
    "collapsed": true
   },
   "outputs": [],
   "source": [
    "import numpy"
   ]
  },
  {
   "cell_type": "code",
   "execution_count": 1,
   "metadata": {
    "collapsed": true
   },
   "outputs": [],
   "source": [
    "import pandas\n",
    "df_train = pandas.read_csv('trainAS.csv')#pandas.read_csv('AMTRAIN.csv')\n",
    "import numpy as np\n",
    "df_train[df_train.Ever_90_in_12M == 1]\n"
   ]
  },
  {
   "cell_type": "code",
   "execution_count": 11,
   "metadata": {},
   "outputs": [
    {
     "data": {
      "text/plain": [
       "array([ -1.11110000e+04,  -9.99900000e+03,   1.00000000e+00, ...,\n",
       "                    nan,              nan,              nan])"
      ]
     },
     "execution_count": 11,
     "metadata": {},
     "output_type": "execute_result"
    }
   ],
   "source": [
    "np.unique(df_train.No_of_enq_last_12m_Sec_C.values)"
   ]
  },
  {
   "cell_type": "code",
   "execution_count": 7,
   "metadata": {},
   "outputs": [
    {
     "data": {
      "text/plain": [
       "0.006652454516251497"
      ]
     },
     "execution_count": 7,
     "metadata": {},
     "output_type": "execute_result"
    }
   ],
   "source": [
    "1139.0/len(df_train)"
   ]
  },
  {
   "cell_type": "markdown",
   "metadata": {},
   "source": [
    "# Feature Engineering \n"
   ]
  },
  {
   "cell_type": "code",
   "execution_count": 47,
   "metadata": {
    "collapsed": true
   },
   "outputs": [],
   "source": [
    "def Prepro(df_train):\n",
    "    return df_train\n",
    "def encoding(df_train):\n",
    "    \n",
    "\n",
    "def encoding2(df_train):\n",
    "    X = []\n",
    "    if 'target_1' in df_train.columns:\n",
    "        Y1 = df_train['target_1'].values\n",
    "        Y2 = df_train['target_2'].values\n",
    "        del df_train['target_2']\n",
    "        del df_train['target_1']\n",
    "        del df_train['cm_key']\n",
    "        df_tr = df_train[df_train.columns[:43]]\n",
    "        X = df_tr.to_dict('records')\n",
    "        from sklearn.feature_extraction import DictVectorizer\n",
    "        enc = DictVectorizer()\n",
    "        Xenc =enc.fit_transform(X)\n",
    "        return [Xenc,Y1,Y2]\n",
    "    else:\n",
    "        df_tr = df_train[df_train.columns[:43]]\n",
    "        X = df_tr.to_dict('records')\n",
    "        from sklearn.feature_extraction import DictVectorizer\n",
    "        enc = DictVectorizer()\n",
    "        Xenc =enc.fit_transform(X)\n",
    "        return [Xenc]   \n",
    "def prepros2(df_train):\n",
    "    df_train['ElecSt'] =  df_train['mvar16']+df_train['mvar17']+df_train['mvar18']+df_train['mvar19']\n",
    "    K  = df_train['ElecSt'].values>0\n",
    "    df_train['ElecB']  = K*1\n",
    "    for i in [u'mvar16', u'mvar17', u'mvar18',u'mvar19']:\n",
    "        df_train[i+'R'] = df_train[i]/df_train['ElecSt']\n",
    "    df_train['TravelSt'] =  df_train['mvar20']+df_train['mvar21']+df_train['mvar22']+df_train['mvar23']\n",
    "    K  = df_train['TravelSt'].values>0\n",
    "    df_train['TravelB']  = K*1\n",
    "    for i in [u'mvar20', u'mvar21', u'mvar22',u'mvar23']:\n",
    "        df_train[i] = df_train[i]/df_train['TravelSt']\n",
    "        \n",
    "    df_train['HouseSt'] =  df_train['mvar24']+df_train['mvar25']+df_train['mvar26']+df_train['mvar27']\n",
    "    K  = df_train['HouseSt'].values>0\n",
    "    df_train['HouseB']  = K*1\n",
    "    for i in [u'mvar24', u'mvar25', u'mvar26',u'mvar27']:\n",
    "        df_train[i] = df_train[i]/df_train['HouseSt']\n",
    "    \n",
    "    \n",
    "    df_train['CarSt'] =  df_train['mvar28']+df_train['mvar29']+df_train['mvar30']+df_train['mvar31']\n",
    "    K  = df_train['CarSt'].values>0\n",
    "    df_train['CarB']  = K*1\n",
    "\n",
    "    for i in [u'mvar28', u'mvar29', u'mvar30',u'mvar31']:\n",
    "        df_train[i] = df_train[i]/df_train['CarSt']\n",
    "\n",
    "    df_train['RetSt'] =  df_train['mvar32']+df_train['mvar33']+df_train['mvar34']+df_train['mvar35']\n",
    "    K  = df_train['RetSt'].values>0\n",
    "    df_train['RetB']  = K*1\n",
    "    for i in [u'mvar32', u'mvar33', u'mvar34',u'mvar35']:\n",
    "        df_train[i] = df_train[i]/df_train['RetSt']\n",
    "    df_train['TLC'] = df_train['mvar40']+df_train['mvar41']+df_train['mvar42']+df_train['mvar43']+df_train['mvar44']+df_train['mvar45']\n",
    "    df_train['TLCcard'] = df_train['mvar43']+ df_train['mvar44']+df_train['mvar45']\n",
    "    df_train['TLCoffer'] =df_train['mvar40']+ df_train['mvar41']+df_train['mvar42']\n",
    "    for i in ['TLC','TLCcard','TLCoffer']:\n",
    "        K  = df_train[i].values>0\n",
    "        df_train[i+'B']  = K*1 \n",
    "    \n",
    "    K  = df_train['mvar3'].values>0 ############\n",
    "    df_train['mvar3B']  = K*1\n",
    "    \n",
    "    K  = df_train['mvar4'].values>4.5 ##########\n",
    "    df_train['mvar4B']  = K*1\n",
    "\n",
    "    K  = df_train['mvar5'].values>0\n",
    "    df_train['mvar5B']  = K*1\n",
    "\n",
    "    K  = df_train['mvar6'].values>1000\n",
    "    df_train['mvar6B']  = K*1\n",
    "    \n",
    "    K  = df_train['mvar7'].values>0\n",
    "    df_train['mvar7B']  = K*1\n",
    "\n",
    "    K  = df_train['mvar8'].values>0\n",
    "    df_train['mvar8B']  = K*1\n",
    "\n",
    "    K  = df_train['mvar9'].values>0\n",
    "    df_train['mvar9B']  = K*1\n",
    "    \n",
    "    K  = df_train['mvar14'].values>0\n",
    "    df_train['mvar14B']  = K*1\n",
    "    \n",
    "    df_train['B']  = df_train['mvar3B']+df_train['mvar4B'] +df_train['mvar5B']+df_train['mvar6B'] +df_train['mvar7B']\n",
    "    \n",
    "    df_train['TS'] = df_train['mvar36']+df_train['mvar37']+df_train['mvar38']+df_train['mvar39']\n",
    "    for i in [u'mvar36', u'mvar37', u'mvar38',u'mvar39']:\n",
    "        df_train[i] = df_train[i]/df_train['TS']\n",
    "    for i in [0,1,2,3]:\n",
    "         df_train['q'+str(1+i)] = df_train['mvar'+str(16+i)]+ df_train['mvar'+str(20+i)] + df_train['mvar'+str(24+i)] + df_train['mvar'+str(28+i)] + df_train['mvar'+str(32+i)] +df_train['mvar'+str(36+i)]\n",
    "\n",
    "    K  = df_train['mvar2'].values<6\n",
    "    df_train['smallF']  = K*1   \n",
    "    K  = df_train['mvar2'].values >=6\n",
    "    df_train['longF']  = K*1   \n",
    "    df_train  = df_train.fillna(0)\n",
    "    \n",
    "    df_train['A']  = df_train['mvar3'] - df_train['TS']\n",
    "    df_train['B']  = df_train['mvar7']*df_train['TS']\n",
    "    df_train['C']  = df_train['mvar5']/12\n",
    "    df_train['D']  = df_train['mvar7']/(df_train['mvar11']+0.0001)\n",
    "    df_train['E']  = df_train['mvar4']/(df_train['mvar2']+1)\n",
    "    return df_train\n",
    "\n",
    "\n",
    "\n",
    "\n",
    "score = []\n",
    "money = 0\n",
    "def AMEXMETRIC(act,pred,score,money):\n",
    "    for i in range(len(act)):\n",
    "        if money < 6000:\n",
    "            if act[i] == pred[i]:\n",
    "                score.append(100)\n",
    "                money  = money+6\n",
    "            elif act[i] != pred[i] and act[i] !='None':\n",
    "                score.append(100)\n",
    "                money  = money+12\n",
    "            elif act[i] =='None':\n",
    "                score.append(0)\n",
    "                money  = money+6\n",
    "            j = i\n",
    "    return sum(score),money,j"
   ]
  },
  {
   "cell_type": "code",
   "execution_count": 48,
   "metadata": {
    "collapsed": true
   },
   "outputs": [],
   "source": [
    "import pandas\n",
    "df_train = pandas.read_csv('ATRAIN.csv')#pandas.read_csv('AMTRAIN.csv')\n",
    "df_test = pandas.read_csv('AVALID.csv')\n",
    "del df_train['Unnamed: 0']\n",
    "del df_test['Unnamed: 0']\n",
    "\n",
    "df_valid = pandas.read_csv('Leaderboard.csv')#pandas.read_csv('AMVALID.csv')\n",
    "df_train = pandas.concat([df_train,df_test])\n",
    "df_train = prepros2(df_train)\n",
    "df_valid = prepros2(df_valid)\n",
    "Key1 = df_valid['cm_key'].values\n",
    "cols= [\n",
    " 'cm_key',\n",
    " 'mvar2',\n",
    " 'mvar4',\n",
    " 'mvar5',\n",
    " 'mvar6',\n",
    " 'mvar7',\n",
    " 'mvar8',\n",
    " 'mvar9',\n",
    " 'mvar10',\n",
    " 'mvar11',\n",
    " 'mvar12',\n",
    " 'mvar13',\n",
    " 'mvar14',\n",
    " 'mvar15',  \n",
    "# 'mvar16',\n",
    "#  'mvar17',\n",
    "#  'mvar18',\n",
    "#  'mvar19',\n",
    "#  'mvar20',\n",
    "#  'mvar21',\n",
    "#  'mvar22',\n",
    "#  'mvar23',\n",
    "#  'mvar24',\n",
    "#  'mvar25',\n",
    "#  'mvar26',\n",
    "#  'mvar27',\n",
    "#  'mvar28',\n",
    "#  'mvar29',\n",
    "#  'mvar30',\n",
    "#  'mvar31',\n",
    "#  'mvar32',\n",
    "#  'mvar33',\n",
    "#  'mvar34',\n",
    "#  'mvar35',\n",
    " 'mvar36',\n",
    " 'mvar37',\n",
    " 'mvar38',\n",
    " 'mvar39',\n",
    " 'mvar40',\n",
    " 'mvar41',\n",
    " 'mvar42',\n",
    " 'mvar43',\n",
    " 'mvar44',\n",
    " 'mvar45',\n",
    " 'ElecSt',\n",
    "# 'ElecB',\n",
    " 'TravelSt',\n",
    "# 'TravelB',\n",
    " 'HouseSt',\n",
    "# 'HouseB',\n",
    " 'CarSt',\n",
    "# 'CarB',\n",
    " 'RetSt',\n",
    "# 'RetB',\n",
    " 'TS',\n",
    " 'longF',\n",
    " 'smallF',\n",
    " 'q1',\n",
    " 'q2',\n",
    " 'q3',\n",
    " 'q4',\n",
    "    'TLCB','TLCofferB','A','B','C','D','F'\n",
    "]\n",
    "\n",
    "df_train = df_train[cols+[ 'target_1', 'target_2']]\n",
    "df_valid = df_valid[cols]\n",
    "#df_test = df_test[cols]\n",
    "\n",
    "df_train = Prepro(df_train)\n",
    "df_valid = Prepro(df_valid)\n",
    "train = encoding(df_train)\n",
    "valid = encoding(df_valid)\n",
    "X_tr = train[0]\n",
    "Y_tr_1  = train[1]\n",
    "Y_tr_2  = train[2]\n",
    "X_va = valid[0]\n",
    "\n",
    "\n",
    "# #Feature Union\n",
    "Y = Y_tr_2\n",
    "# pca = PCA(n_components=3)\n",
    "# selection = SelectKBest(k=25)\n",
    "# modelused = FeatureUnion([(\"pca\", pca), (\"univ_select\", selection)])\n",
    "# X_TR = modelused.fit(X_tr.toarray(), Y).transform(X_tr.toarray())\n",
    "# X_VA = modelused.fit(X_tr.toarray(), Y).transform(X_va.toarray())\n",
    "\n",
    "X_TR = X_tr\n",
    "X_VA = X_va\n",
    "\n"
   ]
  },
  {
   "cell_type": "code",
   "execution_count": null,
   "metadata": {
    "collapsed": true
   },
   "outputs": [],
   "source": []
  },
  {
   "cell_type": "code",
   "execution_count": 31,
   "metadata": {},
   "outputs": [
    {
     "data": {
      "text/plain": [
       "GradientBoostingClassifier(criterion='friedman_mse', init=None,\n",
       "              learning_rate=0.1, loss='deviance', max_depth=3,\n",
       "              max_features=None, max_leaf_nodes=None,\n",
       "              min_impurity_split=1e-07, min_samples_leaf=1,\n",
       "              min_samples_split=2, min_weight_fraction_leaf=0.0,\n",
       "              n_estimators=100, presort='auto', random_state=None,\n",
       "              subsample=1.0, verbose=0, warm_start=False)"
      ]
     },
     "execution_count": 31,
     "metadata": {},
     "output_type": "execute_result"
    }
   ],
   "source": [
    "clf3 = GradientBoostingClassifier()#GradientBoostingClassifier(min_samples_leaf=200,max_depth=5,n_estimators=100)\n",
    "clf3.fit(X_TR,Y_tr_2)\n",
    "\n"
   ]
  },
  {
   "cell_type": "code",
   "execution_count": 39,
   "metadata": {},
   "outputs": [
    {
     "data": {
      "text/plain": [
       "GradientBoostingClassifier(criterion='friedman_mse', init=None,\n",
       "              learning_rate=0.001, loss='deviance', max_depth=3,\n",
       "              max_features=None, max_leaf_nodes=None,\n",
       "              min_impurity_split=1e-07, min_samples_leaf=1,\n",
       "              min_samples_split=2, min_weight_fraction_leaf=0.0,\n",
       "              n_estimators=1000, presort='auto', random_state=None,\n",
       "              subsample=1.0, verbose=0, warm_start=False)"
      ]
     },
     "execution_count": 39,
     "metadata": {},
     "output_type": "execute_result"
    }
   ],
   "source": [
    "from xgboost import XGBClassifier\n",
    "\n",
    "#clf =  #XGBClassifier(n_estimators=1000,learning_rate=0.001,subsample= 0.3, max_depth=5,min_child_weight=9)\n",
    "clf = GradientBoostingClassifier(n_estimators=1000,learning_rate=0.001)\n",
    "clf.fit(X_TR,Y_tr_1)"
   ]
  },
  {
   "cell_type": "code",
   "execution_count": 49,
   "metadata": {
    "collapsed": true
   },
   "outputs": [],
   "source": [
    "df_valid['proba'] = clf.predict_proba(X_VA.toarray()).T[0]\n",
    "df_valid['proba2'] = clf3.predict_proba(X_VA.toarray()).T[2]\n",
    "df_valid['proba3'] = df_valid['proba']+3*df_valid['proba2']\n",
    "df_valid['KEY'] = Key1\n",
    "df_valid = df_valid.sort_values(['proba3'], ascending=True)\n",
    "df_valid2 = df_valid[:1000]\n"
   ]
  },
  {
   "cell_type": "code",
   "execution_count": 50,
   "metadata": {
    "collapsed": true
   },
   "outputs": [],
   "source": [
    "\n",
    "Key2 = df_valid2['KEY'].values\n",
    "del df_valid2['KEY']\n",
    "del df_valid2['proba']\n",
    "del df_valid2['proba2']\n",
    "del df_valid2['proba3']\n",
    "\n",
    "df_train['Tar'] = Y_tr_2\n",
    "df_train['T'] = Y_tr_1\n",
    "df_train2 = df_train[df_train['T'] ==1]\n",
    "Y_2  = df_train2['Tar'].values\n",
    "\n",
    "del df_train2['T']\n",
    "del df_train2['Tar']\n",
    "\n",
    "del df_train2['mvar12']\n",
    "del df_valid2['mvar12']\n",
    "\n",
    "train = encoding2(df_train2)\n",
    "valid = encoding2(df_valid2)\n",
    "X_tr2 = train[0]\n",
    "X_va2 = valid[0]\n",
    "\n",
    "\n"
   ]
  },
  {
   "cell_type": "code",
   "execution_count": null,
   "metadata": {
    "collapsed": true
   },
   "outputs": [],
   "source": [
    "clf2 = OneVsRestClassifier(GradientBoostingClassifier(min_samples_leaf=100))\n",
    "clf2.fit(X_tr2,Y_2)\n"
   ]
  },
  {
   "cell_type": "code",
   "execution_count": 51,
   "metadata": {},
   "outputs": [
    {
     "name": "stderr",
     "output_type": "stream",
     "text": [
      "C:\\Users\\user\\AppData\\Local\\Continuum\\Anaconda2\\lib\\site-packages\\ipykernel_launcher.py:1: SettingWithCopyWarning: \n",
      "A value is trying to be set on a copy of a slice from a DataFrame.\n",
      "Try using .loc[row_indexer,col_indexer] = value instead\n",
      "\n",
      "See the caveats in the documentation: http://pandas.pydata.org/pandas-docs/stable/indexing.html#indexing-view-versus-copy\n",
      "  \"\"\"Entry point for launching an IPython kernel.\n",
      "C:\\Users\\user\\AppData\\Local\\Continuum\\Anaconda2\\lib\\site-packages\\ipykernel_launcher.py:2: SettingWithCopyWarning: \n",
      "A value is trying to be set on a copy of a slice from a DataFrame.\n",
      "Try using .loc[row_indexer,col_indexer] = value instead\n",
      "\n",
      "See the caveats in the documentation: http://pandas.pydata.org/pandas-docs/stable/indexing.html#indexing-view-versus-copy\n",
      "  \n"
     ]
    }
   ],
   "source": [
    "df_valid2['KEY'] = Key2\n",
    "df_valid2['pred'] = clf2.predict(X_va2.toarray())\n",
    "\n",
    "# maxproba = []\n",
    "# for i in clf.predict_proba(X_va2.toarray()):\n",
    "#     maxproba.append(max(i))\n",
    "# df_valid2['M']  = maxproba\n",
    "# df_valid2 = df_valid2.sort_values(['M'], ascending=False)\n",
    "\n",
    "df_valid = df_valid2[['KEY','pred']]\n",
    "from sklearn.utils import shuffle\n",
    "df_valid = shuffle(df_valid)\n",
    "df_valid.to_csv('godlevel5.csv',index=False,index_label=False,header=False)"
   ]
  },
  {
   "cell_type": "code",
   "execution_count": null,
   "metadata": {
    "collapsed": true
   },
   "outputs": [],
   "source": []
  },
  {
   "cell_type": "code",
   "execution_count": null,
   "metadata": {
    "collapsed": true
   },
   "outputs": [],
   "source": []
  },
  {
   "cell_type": "code",
   "execution_count": null,
   "metadata": {
    "collapsed": true
   },
   "outputs": [],
   "source": [
    "clf.predict(X_va2.toarray())[clf.predict_proba(X_va2.toarray()).T[2]>0.7]"
   ]
  },
  {
   "cell_type": "code",
   "execution_count": null,
   "metadata": {
    "collapsed": true
   },
   "outputs": [],
   "source": []
  },
  {
   "cell_type": "code",
   "execution_count": null,
   "metadata": {
    "collapsed": true
   },
   "outputs": [],
   "source": []
  },
  {
   "cell_type": "code",
   "execution_count": null,
   "metadata": {
    "collapsed": true
   },
   "outputs": [],
   "source": [
    "df_valid['proba'] = sig_clf.predict_proba(X_VA.toarray()).T[1]\n",
    "df_valid['KEY'] = Key1\n",
    "df_valid = df_valid.sort_values(['proba'], ascending=False)\n",
    "df_valid2 = df_valid[:1000]\n",
    "Key2 = df_valid2['KEY'].values\n",
    "del df_valid2['KEY']\n",
    "del df_valid2['proba']\n",
    "\n",
    "df_train['Tar'] = Y_tr_2\n",
    "df_train['T'] = Y_tr_1\n",
    "df_train2 = df_train[df_train['T'] ==1]\n",
    "Y_2  = df_train2['Tar'].values\n",
    "\n",
    "del df_train2['T']\n",
    "del df_train2['Tar']\n",
    "#ENCODING\n",
    "X_train = df_train2.to_dict('records')\n",
    "X_test = df_valid2.to_dict('records')\n",
    "X_tr = []\n",
    "X_te = []\n",
    "X_tr.extend(X_train)\n",
    "X_te.extend(X_test)\n",
    "X_total = X_tr + X_te\n",
    "#One Hot Encoding \n",
    "enc = DictVectorizer()\n",
    "X_encoded_total =enc.fit_transform(X_total)\n",
    "X_tr2 =X_encoded_total[:len(X_tr)]\n",
    "X_va2 =X_encoded_total[len(X_tr):]\n"
   ]
  },
  {
   "cell_type": "code",
   "execution_count": null,
   "metadata": {
    "collapsed": true
   },
   "outputs": [],
   "source": []
  },
  {
   "cell_type": "code",
   "execution_count": null,
   "metadata": {
    "collapsed": true
   },
   "outputs": [],
   "source": []
  },
  {
   "cell_type": "code",
   "execution_count": null,
   "metadata": {
    "collapsed": true
   },
   "outputs": [],
   "source": []
  },
  {
   "cell_type": "code",
   "execution_count": 28,
   "metadata": {
    "collapsed": true
   },
   "outputs": [],
   "source": [
    "from sklearn.tree import DecisionTreeClassifier\n",
    "from sklearn.ensemble import RandomForestClassifier,GradientBoostingClassifier,AdaBoostClassifier\n",
    "from sklearn.linear_model import LogisticRegression\n",
    "from sklearn.multiclass import OneVsRestClassifier,OneVsOneClassifier,OutputCodeClassifier\n",
    "from sklearn.multioutput import MultiOutputClassifier\n",
    "from sklearn import svm\n",
    "from sklearn.decomposition import PCA\n",
    "from sklearn.feature_selection import SelectKBest,chi2,SelectKBest,SelectFromModel\n",
    "from sklearn.pipeline import Pipeline, FeatureUnion\n",
    "from sklearn.naive_bayes import MultinomialNB,BernoulliNB\n",
    "from sklearn.linear_model import LogisticRegression\n",
    "from sklearn.tree import DecisionTreeClassifier\n",
    "from sklearn.ensemble import RandomForestClassifier,GradientBoostingClassifier,AdaBoostClassifier\n",
    "from sklearn.model_selection import StratifiedKFold\n",
    "from sklearn.multiclass import OneVsRestClassifier,OutputCodeClassifier\n",
    "from sklearn.metrics import confusion_matrix,accuracy_score\n",
    "from collections import Counter\n",
    "from sklearn.feature_extraction import DictVectorizer"
   ]
  },
  {
   "cell_type": "code",
   "execution_count": null,
   "metadata": {
    "collapsed": true
   },
   "outputs": [],
   "source": []
  },
  {
   "cell_type": "code",
   "execution_count": null,
   "metadata": {
    "collapsed": true
   },
   "outputs": [],
   "source": []
  },
  {
   "cell_type": "code",
   "execution_count": null,
   "metadata": {
    "collapsed": true
   },
   "outputs": [],
   "source": [
    "def AMEX(df_train,df_valid,cols):\n",
    "    Key1 = df_valid['cm_key'].values\n",
    "    df_train = prepros2(df_train)\n",
    "    df_valid = prepros2(df_valid)\n",
    "\n",
    "    df_train = df_train[cols+[ 'target_1', 'target_2']]\n",
    "    df_valid = df_valid[cols]\n",
    "    #df_test = df_test[cols]\n",
    "\n",
    "    df_train = Prepro(df_train)\n",
    "    df_valid = Prepro(df_valid)\n",
    "    train = encoding(df_train)\n",
    "    valid = encoding(df_valid)\n",
    "    X_tr = train[0]\n",
    "    Y_tr_1  = train[1]\n",
    "    Y_tr_2  = train[2]\n",
    "    X_va = valid[0]\n",
    "\n",
    "\n",
    "    # #Feature Union\n",
    "    Y = Y_tr_2\n",
    "    # pca = PCA(n_components=3)\n",
    "    # selection = SelectKBest(k=25)\n",
    "    # modelused = FeatureUnion([(\"pca\", pca), (\"univ_select\", selection)])\n",
    "    # X_TR = modelused.fit(X_tr.toarray(), Y).transform(X_tr.toarray())\n",
    "    # X_VA = modelused.fit(X_tr.toarray(), Y).transform(X_va.toarray())\n",
    "\n",
    "    X_TR = X_tr\n",
    "    X_VA = X_va\n",
    "    clf = GradientBoostingClassifier()\n",
    "    clf.fit(X_tr,Y_tr_1)\n",
    "    from sklearn.calibration import CalibratedClassifierCV\n",
    "\n",
    "    sig_clf = CalibratedClassifierCV(clf, method=\"sigmoid\", cv=\"prefit\")\n",
    "    sig_clf.fit(X_tr.toarray(), Y_tr_1)\n",
    "\n",
    "    print confusion_matrix(Y_tr_1, sig_clf.predict(X_tr.toarray()))\n",
    "    df_valid['proba'] = clf.predict_proba(X_VA.toarray()).T[1]\n",
    "    df_valid['KEY'] = Key1\n",
    "    df_valid = df_valid.sort_values(['proba'], ascending=False)\n",
    "    df_valid2 = df_valid[:1000]\n",
    "    Key2 = df_valid2['KEY'].values\n",
    "    del df_valid2['KEY']\n",
    "    del df_valid2['proba']\n",
    "\n",
    "    df_train['Tar'] = Y_tr_2\n",
    "    df_train['T'] = Y_tr_1\n",
    "    df_train2 = df_train[df_train['T'] ==1]\n",
    "    Y_2  = df_train2['Tar'].values\n",
    "\n",
    "    del df_train2['T']\n",
    "    del df_train2['Tar']\n",
    "\n",
    "    del df_train2['mvar12']\n",
    "    del df_valid2['mvar12']\n",
    "\n",
    "    train = encoding2(df_train2)\n",
    "    valid = encoding2(df_valid2)\n",
    "    X_tr2 = train[0]\n",
    "    X_va2 = valid[0]\n",
    "    clf = GradientBoostingClassifier(min_samples_leaf=100)\n",
    "    clf.fit(X_tr2,Y_2)\n",
    "    df_valid2['KEY'] = Key2\n",
    "    df_valid2['pred'] = clf.predict(X_va2.toarray())\n",
    "    return df_valid2\n",
    "\n",
    "    # maxproba = []\n",
    "    # for i in clf.predict_proba(X_va2.toarray()):\n",
    "    #     maxproba.append(max(i))\n",
    "    # df_valid2['M']  = maxproba\n",
    "    # df_valid2 = df_valid2.sort_values(['M'], ascending=False)\n",
    "    #df_valid = df_valid2[['KEY','pred']]\n",
    "    #df_valid.to_csv('kowshik_pred16.csv',index=False,index_label=False,header=False) "
   ]
  },
  {
   "cell_type": "code",
   "execution_count": null,
   "metadata": {
    "collapsed": true
   },
   "outputs": [],
   "source": [
    "cols= [\n",
    " 'cm_key',\n",
    " 'mvar1',\n",
    " 'mvar2',\n",
    " 'mvar4',\n",
    " 'mvar5',\n",
    " 'mvar6',\n",
    " 'mvar7',\n",
    " 'mvar8',\n",
    " 'mvar9',\n",
    " 'mvar10',\n",
    " 'mvar11',\n",
    " 'mvar12',\n",
    " 'mvar13',\n",
    " 'mvar14',\n",
    " 'mvar15',\n",
    " 'mvar16',\n",
    " 'mvar17',\n",
    " 'mvar18',\n",
    " 'mvar19',\n",
    " 'mvar20',\n",
    " 'mvar21',\n",
    " 'mvar22',\n",
    " 'mvar23',\n",
    " 'mvar24',\n",
    " 'mvar25',\n",
    " 'mvar26',\n",
    " 'mvar27',\n",
    " 'mvar28',\n",
    " 'mvar29',\n",
    " 'mvar30',\n",
    " 'mvar31',\n",
    " 'mvar32',\n",
    " 'mvar33',\n",
    " 'mvar34',\n",
    " 'mvar35',\n",
    " 'mvar36',\n",
    " 'mvar37',\n",
    " 'mvar38',\n",
    " 'mvar39',\n",
    " 'mvar40',\n",
    " 'mvar41',\n",
    " 'mvar42',\n",
    " 'mvar43',\n",
    " 'mvar44',\n",
    " 'mvar45',\n",
    " 'ElecSt',\n",
    " 'ElecB',\n",
    " 'TravelSt',\n",
    " 'TravelB',\n",
    " 'HouseSt',\n",
    " 'HouseB',\n",
    " 'CarSt',\n",
    " 'CarB',\n",
    " 'RetSt',\n",
    " 'RetB',\n",
    " 'TS',\n",
    " 'SingleF',\n",
    " 'longF',\n",
    " 'smallF']\n",
    "import pandas\n",
    "df_train = pandas.read_csv('AMTRAIN.csv')#pandas.read_csv('AMTRAIN.csv')\n",
    "df_test = pandas.read_csv('AMVALID.csv')\n",
    "del df_train['Unnamed: 0']\n",
    "del df_test['Unnamed: 0']\n",
    "df_train = pandas.concat([df_train,df_test])\n",
    "df_valid = pandas.read_csv('Leaderboard_Dataset.csv')#pandas.read_csv('AMVALID.csv')\n",
    "df = AMEX(df_train,df_valid,cols)"
   ]
  },
  {
   "cell_type": "code",
   "execution_count": null,
   "metadata": {
    "collapsed": true
   },
   "outputs": [],
   "source": [
    "df"
   ]
  },
  {
   "cell_type": "code",
   "execution_count": null,
   "metadata": {
    "collapsed": true
   },
   "outputs": [],
   "source": [
    "df_v = df[['KEY','pred']]\n",
    "df_v.to_csv('kowshik_pred16.csv',index=False,index_label=False,header=False)"
   ]
  },
  {
   "cell_type": "code",
   "execution_count": null,
   "metadata": {
    "collapsed": true
   },
   "outputs": [],
   "source": []
  }
 ],
 "metadata": {
  "kernelspec": {
   "display_name": "Python 2",
   "language": "python",
   "name": "python2"
  },
  "language_info": {
   "codemirror_mode": {
    "name": "ipython",
    "version": 2
   },
   "file_extension": ".py",
   "mimetype": "text/x-python",
   "name": "python",
   "nbconvert_exporter": "python",
   "pygments_lexer": "ipython2",
   "version": "2.7.13"
  }
 },
 "nbformat": 4,
 "nbformat_minor": 2
}
