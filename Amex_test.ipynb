{
 "cells": [
  {
   "cell_type": "code",
   "execution_count": 1,
   "metadata": {
    "collapsed": true
   },
   "outputs": [],
   "source": [
    "def Prepro(df_train):\n",
    "    return df_train\n",
    "def encoding(df_train):\n",
    "    X = []\n",
    "    if 'target_1' in df_train.columns:\n",
    "        Y1 = df_train['target_1'].values\n",
    "        Y2 = df_train['target_2'].values\n",
    "        del df_train['target_2']\n",
    "        del df_train['target_1']\n",
    "        del df_train['cm_key']\n",
    "        df_tr = df_train[df_train.columns[:43]]\n",
    "        X = df_tr.to_dict('records')\n",
    "        from sklearn.feature_extraction import DictVectorizer\n",
    "        enc = DictVectorizer()\n",
    "        Xenc =enc.fit_transform(X)\n",
    "        return [Xenc,Y1,Y2]\n",
    "    else:\n",
    "        del df_train['cm_key']\n",
    "        df_tr = df_train[df_train.columns[:43]]\n",
    "        X = df_tr.to_dict('records')\n",
    "        from sklearn.feature_extraction import DictVectorizer\n",
    "        enc = DictVectorizer()\n",
    "        Xenc =enc.fit_transform(X)\n",
    "        return [Xenc]\n",
    "\n",
    "def encoding2(df_train):\n",
    "    X = []\n",
    "    if 'target_1' in df_train.columns:\n",
    "        Y1 = df_train['target_1'].values\n",
    "        Y2 = df_train['target_2'].values\n",
    "        del df_train['target_2']\n",
    "        del df_train['target_1']\n",
    "        del df_train['cm_key']\n",
    "        df_tr = df_train[df_train.columns[:43]]\n",
    "        X = df_tr.to_dict('records')\n",
    "        from sklearn.feature_extraction import DictVectorizer\n",
    "        enc = DictVectorizer()\n",
    "        Xenc =enc.fit_transform(X)\n",
    "        return [Xenc,Y1,Y2]\n",
    "    else:\n",
    "        df_tr = df_train[df_train.columns[:43]]\n",
    "        X = df_tr.to_dict('records')\n",
    "        from sklearn.feature_extraction import DictVectorizer\n",
    "        enc = DictVectorizer()\n",
    "        Xenc =enc.fit_transform(X)\n",
    "        return [Xenc]    \n",
    "    \n",
    "    \n",
    "import pandas\n",
    "df_train = pandas.read_csv('AMTRAIN.csv')#pandas.read_csv('AMTRAIN.csv')\n",
    "df_valid = pandas.read_csv('AMVALID.csv')\n",
    "Y_TEST_1 = df_valid['target_1']\n",
    "Y_TEST_2 = df_valid['target_2']\n",
    "del df_valid['target_1']\n",
    "del df_valid['target_2']\n",
    "Key1 = df_valid['cm_key'].values\n",
    "\n",
    "cols = [\n",
    " 'cm_key',\n",
    " 'mvar1',\n",
    " 'mvar2',\n",
    " 'mvar4',\n",
    " 'mvar5',\n",
    " 'mvar6',\n",
    " 'mvar7',\n",
    " 'mvar8',\n",
    " 'mvar10',\n",
    " 'mvar11',\n",
    " 'mvar12',\n",
    " 'mvar13',\n",
    " 'mvar14',\n",
    " 'mvar15',\n",
    " 'mvar16',\n",
    " 'mvar17',\n",
    " 'mvar18',\n",
    " 'mvar19',\n",
    " 'mvar20',\n",
    " 'mvar21',\n",
    " 'mvar22',\n",
    " 'mvar23',\n",
    " 'mvar24',\n",
    " 'mvar25',\n",
    " 'mvar26',\n",
    " 'mvar27',\n",
    "  'mvar28',\n",
    " 'mvar29',\n",
    " 'mvar30',\n",
    " 'mvar31',\n",
    " 'mvar32',\n",
    " 'mvar33',\n",
    " 'mvar34',\n",
    " 'mvar35',\n",
    " 'mvar36',\n",
    " 'mvar37',\n",
    " 'mvar38',\n",
    " 'mvar39',\n",
    "#  'mvar40',\n",
    "#  'mvar41',\n",
    "#  'mvar42',\n",
    "#  'mvar43',\n",
    "#  'mvar44',\n",
    "#  'mvar45',\n",
    "       ]\n",
    "\n",
    "df_train = df_train[cols+[ 'target_1', 'target_2']]\n",
    "df_valid = df_valid[cols]\n",
    "#df_test = df_test[cols]\n",
    "\n",
    "df_train = Prepro(df_train)\n",
    "df_valid = Prepro(df_valid)\n",
    "train = encoding(df_train)\n",
    "valid = encoding(df_valid)\n",
    "X_tr = train[0]\n",
    "Y_tr_1  = train[1]\n",
    "Y_tr_2  = train[2]\n",
    "X_va = valid[0]\n",
    "\n",
    "\n",
    "# #Feature Union\n",
    "Y = Y_tr_2\n",
    "# pca = PCA(n_components=3)\n",
    "# selection = SelectKBest(k=25)\n",
    "# modelused = FeatureUnion([(\"pca\", pca), (\"univ_select\", selection)])\n",
    "# X_TR = modelused.fit(X_tr.toarray(), Y).transform(X_tr.toarray())\n",
    "# X_VA = modelused.fit(X_tr.toarray(), Y).transform(X_va.toarray())\n",
    "\n",
    "X_TR = X_tr\n",
    "X_VA = X_va"
   ]
  },
  {
   "cell_type": "code",
   "execution_count": 123,
   "metadata": {},
   "outputs": [
    {
     "name": "stdout",
     "output_type": "stream",
     "text": [
      "[[30776   346]\n",
      " [ 8495   383]]\n"
     ]
    }
   ],
   "source": [
    "clf = AdaBoostClassifier()\n",
    "clf.fit(X_tr,Y_tr_1)\n",
    "from sklearn.calibration import CalibratedClassifierCV\n",
    "\n",
    "sig_clf = CalibratedClassifierCV(clf, method=\"sigmoid\", cv=\"prefit\")\n",
    "sig_clf.fit(X_tr.toarray(), Y_tr_1)\n",
    "\n",
    "print confusion_matrix(Y_tr_1, sig_clf.predict(X_tr.toarray()))"
   ]
  },
  {
   "cell_type": "code",
   "execution_count": 124,
   "metadata": {},
   "outputs": [
    {
     "ename": "ValueError",
     "evalue": "Length of values does not match length of index",
     "output_type": "error",
     "traceback": [
      "\u001b[1;31m---------------------------------------------------------------------------\u001b[0m",
      "\u001b[1;31mValueError\u001b[0m                                Traceback (most recent call last)",
      "\u001b[1;32m<ipython-input-124-e2c1d39c69da>\u001b[0m in \u001b[0;36m<module>\u001b[1;34m()\u001b[0m\n\u001b[1;32m----> 1\u001b[1;33m \u001b[0mdf_valid\u001b[0m\u001b[1;33m[\u001b[0m\u001b[1;34m'proba'\u001b[0m\u001b[1;33m]\u001b[0m \u001b[1;33m=\u001b[0m \u001b[0msig_clf\u001b[0m\u001b[1;33m.\u001b[0m\u001b[0mpredict_proba\u001b[0m\u001b[1;33m(\u001b[0m\u001b[0mX_VA\u001b[0m\u001b[1;33m.\u001b[0m\u001b[0mtoarray\u001b[0m\u001b[1;33m(\u001b[0m\u001b[1;33m)\u001b[0m\u001b[1;33m)\u001b[0m\u001b[1;33m.\u001b[0m\u001b[0mT\u001b[0m\u001b[1;33m[\u001b[0m\u001b[1;36m1\u001b[0m\u001b[1;33m]\u001b[0m\u001b[1;33m\u001b[0m\u001b[0m\n\u001b[0m\u001b[0;32m      2\u001b[0m \u001b[0mdf_valid\u001b[0m\u001b[1;33m[\u001b[0m\u001b[1;34m'KEY'\u001b[0m\u001b[1;33m]\u001b[0m \u001b[1;33m=\u001b[0m \u001b[0mKey1\u001b[0m\u001b[1;33m\u001b[0m\u001b[0m\n\u001b[0;32m      3\u001b[0m \u001b[0mdf_valid\u001b[0m \u001b[1;33m=\u001b[0m \u001b[0mdf_valid\u001b[0m\u001b[1;33m.\u001b[0m\u001b[0msort_values\u001b[0m\u001b[1;33m(\u001b[0m\u001b[1;33m[\u001b[0m\u001b[1;34m'proba'\u001b[0m\u001b[1;33m]\u001b[0m\u001b[1;33m,\u001b[0m \u001b[0mascending\u001b[0m\u001b[1;33m=\u001b[0m\u001b[0mFalse\u001b[0m\u001b[1;33m)\u001b[0m\u001b[1;33m\u001b[0m\u001b[0m\n\u001b[0;32m      4\u001b[0m \u001b[0mdf_valid2\u001b[0m \u001b[1;33m=\u001b[0m \u001b[0mdf_valid\u001b[0m\u001b[1;33m[\u001b[0m\u001b[1;33m:\u001b[0m\u001b[1;36m1000\u001b[0m\u001b[1;33m]\u001b[0m\u001b[1;33m\u001b[0m\u001b[0m\n\u001b[0;32m      5\u001b[0m \u001b[0mKey2\u001b[0m \u001b[1;33m=\u001b[0m \u001b[0mdf_valid2\u001b[0m\u001b[1;33m[\u001b[0m\u001b[1;34m'KEY'\u001b[0m\u001b[1;33m]\u001b[0m\u001b[1;33m.\u001b[0m\u001b[0mvalues\u001b[0m\u001b[1;33m\u001b[0m\u001b[0m\n",
      "\u001b[1;32mC:\\Users\\user\\AppData\\Local\\Continuum\\Anaconda2\\lib\\site-packages\\pandas\\core\\frame.pyc\u001b[0m in \u001b[0;36m__setitem__\u001b[1;34m(self, key, value)\u001b[0m\n\u001b[0;32m   2427\u001b[0m         \u001b[1;32melse\u001b[0m\u001b[1;33m:\u001b[0m\u001b[1;33m\u001b[0m\u001b[0m\n\u001b[0;32m   2428\u001b[0m             \u001b[1;31m# set column\u001b[0m\u001b[1;33m\u001b[0m\u001b[1;33m\u001b[0m\u001b[0m\n\u001b[1;32m-> 2429\u001b[1;33m             \u001b[0mself\u001b[0m\u001b[1;33m.\u001b[0m\u001b[0m_set_item\u001b[0m\u001b[1;33m(\u001b[0m\u001b[0mkey\u001b[0m\u001b[1;33m,\u001b[0m \u001b[0mvalue\u001b[0m\u001b[1;33m)\u001b[0m\u001b[1;33m\u001b[0m\u001b[0m\n\u001b[0m\u001b[0;32m   2430\u001b[0m \u001b[1;33m\u001b[0m\u001b[0m\n\u001b[0;32m   2431\u001b[0m     \u001b[1;32mdef\u001b[0m \u001b[0m_setitem_slice\u001b[0m\u001b[1;33m(\u001b[0m\u001b[0mself\u001b[0m\u001b[1;33m,\u001b[0m \u001b[0mkey\u001b[0m\u001b[1;33m,\u001b[0m \u001b[0mvalue\u001b[0m\u001b[1;33m)\u001b[0m\u001b[1;33m:\u001b[0m\u001b[1;33m\u001b[0m\u001b[0m\n",
      "\u001b[1;32mC:\\Users\\user\\AppData\\Local\\Continuum\\Anaconda2\\lib\\site-packages\\pandas\\core\\frame.pyc\u001b[0m in \u001b[0;36m_set_item\u001b[1;34m(self, key, value)\u001b[0m\n\u001b[0;32m   2493\u001b[0m \u001b[1;33m\u001b[0m\u001b[0m\n\u001b[0;32m   2494\u001b[0m         \u001b[0mself\u001b[0m\u001b[1;33m.\u001b[0m\u001b[0m_ensure_valid_index\u001b[0m\u001b[1;33m(\u001b[0m\u001b[0mvalue\u001b[0m\u001b[1;33m)\u001b[0m\u001b[1;33m\u001b[0m\u001b[0m\n\u001b[1;32m-> 2495\u001b[1;33m         \u001b[0mvalue\u001b[0m \u001b[1;33m=\u001b[0m \u001b[0mself\u001b[0m\u001b[1;33m.\u001b[0m\u001b[0m_sanitize_column\u001b[0m\u001b[1;33m(\u001b[0m\u001b[0mkey\u001b[0m\u001b[1;33m,\u001b[0m \u001b[0mvalue\u001b[0m\u001b[1;33m)\u001b[0m\u001b[1;33m\u001b[0m\u001b[0m\n\u001b[0m\u001b[0;32m   2496\u001b[0m         \u001b[0mNDFrame\u001b[0m\u001b[1;33m.\u001b[0m\u001b[0m_set_item\u001b[0m\u001b[1;33m(\u001b[0m\u001b[0mself\u001b[0m\u001b[1;33m,\u001b[0m \u001b[0mkey\u001b[0m\u001b[1;33m,\u001b[0m \u001b[0mvalue\u001b[0m\u001b[1;33m)\u001b[0m\u001b[1;33m\u001b[0m\u001b[0m\n\u001b[0;32m   2497\u001b[0m \u001b[1;33m\u001b[0m\u001b[0m\n",
      "\u001b[1;32mC:\\Users\\user\\AppData\\Local\\Continuum\\Anaconda2\\lib\\site-packages\\pandas\\core\\frame.pyc\u001b[0m in \u001b[0;36m_sanitize_column\u001b[1;34m(self, key, value, broadcast)\u001b[0m\n\u001b[0;32m   2664\u001b[0m \u001b[1;33m\u001b[0m\u001b[0m\n\u001b[0;32m   2665\u001b[0m             \u001b[1;31m# turn me into an ndarray\u001b[0m\u001b[1;33m\u001b[0m\u001b[1;33m\u001b[0m\u001b[0m\n\u001b[1;32m-> 2666\u001b[1;33m             \u001b[0mvalue\u001b[0m \u001b[1;33m=\u001b[0m \u001b[0m_sanitize_index\u001b[0m\u001b[1;33m(\u001b[0m\u001b[0mvalue\u001b[0m\u001b[1;33m,\u001b[0m \u001b[0mself\u001b[0m\u001b[1;33m.\u001b[0m\u001b[0mindex\u001b[0m\u001b[1;33m,\u001b[0m \u001b[0mcopy\u001b[0m\u001b[1;33m=\u001b[0m\u001b[0mFalse\u001b[0m\u001b[1;33m)\u001b[0m\u001b[1;33m\u001b[0m\u001b[0m\n\u001b[0m\u001b[0;32m   2667\u001b[0m             \u001b[1;32mif\u001b[0m \u001b[1;32mnot\u001b[0m \u001b[0misinstance\u001b[0m\u001b[1;33m(\u001b[0m\u001b[0mvalue\u001b[0m\u001b[1;33m,\u001b[0m \u001b[1;33m(\u001b[0m\u001b[0mnp\u001b[0m\u001b[1;33m.\u001b[0m\u001b[0mndarray\u001b[0m\u001b[1;33m,\u001b[0m \u001b[0mIndex\u001b[0m\u001b[1;33m)\u001b[0m\u001b[1;33m)\u001b[0m\u001b[1;33m:\u001b[0m\u001b[1;33m\u001b[0m\u001b[0m\n\u001b[0;32m   2668\u001b[0m                 \u001b[1;32mif\u001b[0m \u001b[0misinstance\u001b[0m\u001b[1;33m(\u001b[0m\u001b[0mvalue\u001b[0m\u001b[1;33m,\u001b[0m \u001b[0mlist\u001b[0m\u001b[1;33m)\u001b[0m \u001b[1;32mand\u001b[0m \u001b[0mlen\u001b[0m\u001b[1;33m(\u001b[0m\u001b[0mvalue\u001b[0m\u001b[1;33m)\u001b[0m \u001b[1;33m>\u001b[0m \u001b[1;36m0\u001b[0m\u001b[1;33m:\u001b[0m\u001b[1;33m\u001b[0m\u001b[0m\n",
      "\u001b[1;32mC:\\Users\\user\\AppData\\Local\\Continuum\\Anaconda2\\lib\\site-packages\\pandas\\core\\series.pyc\u001b[0m in \u001b[0;36m_sanitize_index\u001b[1;34m(data, index, copy)\u001b[0m\n\u001b[0;32m   2877\u001b[0m \u001b[1;33m\u001b[0m\u001b[0m\n\u001b[0;32m   2878\u001b[0m     \u001b[1;32mif\u001b[0m \u001b[0mlen\u001b[0m\u001b[1;33m(\u001b[0m\u001b[0mdata\u001b[0m\u001b[1;33m)\u001b[0m \u001b[1;33m!=\u001b[0m \u001b[0mlen\u001b[0m\u001b[1;33m(\u001b[0m\u001b[0mindex\u001b[0m\u001b[1;33m)\u001b[0m\u001b[1;33m:\u001b[0m\u001b[1;33m\u001b[0m\u001b[0m\n\u001b[1;32m-> 2879\u001b[1;33m         \u001b[1;32mraise\u001b[0m \u001b[0mValueError\u001b[0m\u001b[1;33m(\u001b[0m\u001b[1;34m'Length of values does not match length of '\u001b[0m \u001b[1;34m'index'\u001b[0m\u001b[1;33m)\u001b[0m\u001b[1;33m\u001b[0m\u001b[0m\n\u001b[0m\u001b[0;32m   2880\u001b[0m \u001b[1;33m\u001b[0m\u001b[0m\n\u001b[0;32m   2881\u001b[0m     \u001b[1;32mif\u001b[0m \u001b[0misinstance\u001b[0m\u001b[1;33m(\u001b[0m\u001b[0mdata\u001b[0m\u001b[1;33m,\u001b[0m \u001b[0mPeriodIndex\u001b[0m\u001b[1;33m)\u001b[0m\u001b[1;33m:\u001b[0m\u001b[1;33m\u001b[0m\u001b[0m\n",
      "\u001b[1;31mValueError\u001b[0m: Length of values does not match length of index"
     ]
    }
   ],
   "source": [
    "df_valid['proba'] = sig_clf.predict_proba(X_VA.toarray()).T[1]\n",
    "df_valid['KEY'] = Key1\n",
    "df_valid = df_valid.sort_values(['proba'], ascending=False)\n",
    "df_valid2 = df_valid[:1000]\n",
    "Key2 = df_valid2['KEY'].values\n",
    "del df_valid2['KEY']\n",
    "del df_valid2['proba']\n",
    "\n",
    "df_train['Tar'] = Y_tr_2\n",
    "df_train['T'] = Y_tr_1\n",
    "df_train2 = df_train[df_train['T'] ==1]\n",
    "Y_2  = df_train2['Tar'].values\n",
    "\n",
    "del df_train2['T']\n",
    "del df_train2['Tar']\n",
    "\n",
    "del df_train2['mvar12']\n",
    "del df_valid2['mvar12']\n",
    "\n",
    "train = encoding2(df_train2)\n",
    "valid = encoding2(df_valid2)\n",
    "X_tr2 = train[0]\n",
    "X_va2 = valid[0]"
   ]
  },
  {
   "cell_type": "code",
   "execution_count": 125,
   "metadata": {},
   "outputs": [
    {
     "data": {
      "text/plain": [
       "GradientBoostingClassifier(criterion='friedman_mse', init=None,\n",
       "              learning_rate=0.1, loss='deviance', max_depth=3,\n",
       "              max_features=None, max_leaf_nodes=None,\n",
       "              min_impurity_split=1e-07, min_samples_leaf=100,\n",
       "              min_samples_split=2, min_weight_fraction_leaf=0.0,\n",
       "              n_estimators=100, presort='auto', random_state=None,\n",
       "              subsample=1.0, verbose=0, warm_start=False)"
      ]
     },
     "execution_count": 125,
     "metadata": {},
     "output_type": "execute_result"
    }
   ],
   "source": [
    "clf = GradientBoostingClassifier(min_samples_leaf=100)\n",
    "clf.fit(X_tr2,Y_2)\n"
   ]
  },
  {
   "cell_type": "code",
   "execution_count": 126,
   "metadata": {
    "collapsed": true
   },
   "outputs": [],
   "source": [
    "df_valid2['KEY'] = Key2\n",
    "df_valid2['pred'] = clf.predict(X_va2.toarray())\n",
    "\n",
    "# maxproba = []\n",
    "# for i in clf.predict_proba(X_va2.toarray()):\n",
    "#     maxproba.append(max(i))\n",
    "# df_valid2['M']  = maxproba\n",
    "# df_valid2 = df_valid2.sort_values(['M'], ascending=False)\n",
    "df_valid = df_valid2[['KEY','pred']]\n",
    "df_valid.to_csv('kowshik_pred16.csv',index=False,index_label=False,header=False)"
   ]
  },
  {
   "cell_type": "code",
   "execution_count": null,
   "metadata": {
    "collapsed": true
   },
   "outputs": [],
   "source": []
  },
  {
   "cell_type": "code",
   "execution_count": null,
   "metadata": {
    "collapsed": true
   },
   "outputs": [],
   "source": []
  },
  {
   "cell_type": "code",
   "execution_count": 92,
   "metadata": {
    "collapsed": true
   },
   "outputs": [],
   "source": []
  },
  {
   "cell_type": "code",
   "execution_count": null,
   "metadata": {
    "collapsed": true
   },
   "outputs": [],
   "source": []
  },
  {
   "cell_type": "code",
   "execution_count": null,
   "metadata": {
    "collapsed": true
   },
   "outputs": [],
   "source": []
  },
  {
   "cell_type": "code",
   "execution_count": null,
   "metadata": {
    "collapsed": true
   },
   "outputs": [],
   "source": []
  },
  {
   "cell_type": "code",
   "execution_count": null,
   "metadata": {
    "collapsed": true
   },
   "outputs": [],
   "source": []
  },
  {
   "cell_type": "code",
   "execution_count": null,
   "metadata": {
    "collapsed": true
   },
   "outputs": [],
   "source": []
  },
  {
   "cell_type": "code",
   "execution_count": 83,
   "metadata": {},
   "outputs": [
    {
     "data": {
      "text/plain": [
       "<1000x72 sparse matrix of type '<type 'numpy.float64'>'\n",
       "\twith 24576 stored elements in Compressed Sparse Row format>"
      ]
     },
     "execution_count": 83,
     "metadata": {},
     "output_type": "execute_result"
    }
   ],
   "source": []
  },
  {
   "cell_type": "code",
   "execution_count": 122,
   "metadata": {
    "collapsed": true
   },
   "outputs": [],
   "source": [
    "from sklearn.tree import DecisionTreeClassifier\n",
    "from sklearn.ensemble import RandomForestClassifier,GradientBoostingClassifier,AdaBoostClassifier\n",
    "from sklearn.linear_model import LogisticRegression\n",
    "from sklearn.multiclass import OneVsRestClassifier,OneVsOneClassifier,OutputCodeClassifier\n",
    "from sklearn.multioutput import MultiOutputClassifier\n",
    "from sklearn import svm\n",
    "from sklearn.decomposition import PCA\n",
    "from sklearn.feature_selection import SelectKBest,chi2,SelectKBest,SelectFromModel\n",
    "from sklearn.pipeline import Pipeline, FeatureUnion\n",
    "from sklearn.naive_bayes import MultinomialNB,BernoulliNB\n",
    "from sklearn.linear_model import LogisticRegression\n",
    "from sklearn.tree import DecisionTreeClassifier\n",
    "from sklearn.ensemble import RandomForestClassifier,GradientBoostingClassifier,AdaBoostClassifier\n",
    "from sklearn.model_selection import StratifiedKFold\n",
    "from sklearn.multiclass import OneVsRestClassifier,OutputCodeClassifier\n",
    "from sklearn.metrics import confusion_matrix,accuracy_score\n",
    "from collections import Counter\n",
    "from sklearn.feature_extraction import DictVectorizer"
   ]
  },
  {
   "cell_type": "code",
   "execution_count": null,
   "metadata": {
    "collapsed": true
   },
   "outputs": [],
   "source": []
  }
 ],
 "metadata": {
  "kernelspec": {
   "display_name": "Python 2",
   "language": "python",
   "name": "python2"
  },
  "language_info": {
   "codemirror_mode": {
    "name": "ipython",
    "version": 2
   },
   "file_extension": ".py",
   "mimetype": "text/x-python",
   "name": "python",
   "nbconvert_exporter": "python",
   "pygments_lexer": "ipython2",
   "version": "2.7.13"
  }
 },
 "nbformat": 4,
 "nbformat_minor": 2
}
