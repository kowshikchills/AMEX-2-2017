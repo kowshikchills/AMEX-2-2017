{
 "cells": [
  {
   "cell_type": "code",
   "execution_count": 13,
   "metadata": {
    "collapsed": true
   },
   "outputs": [],
   "source": [
    "def Prepro(df_train):\n",
    "    return df_train\n",
    "def encoding(df_train):\n",
    "    X = []\n",
    "    if 'target_1' in df_train.columns:\n",
    "        Y1 = df_train['target_1'].values\n",
    "        Y2 = df_train['target_2'].values\n",
    "        del df_train['target_2']\n",
    "        del df_train['target_1']\n",
    "        del df_train['cm_key']\n",
    "        df_tr = df_train[df_train.columns[:43]]\n",
    "        X = df_tr.to_dict('records')\n",
    "        from sklearn.feature_extraction import DictVectorizer\n",
    "        enc = DictVectorizer()\n",
    "        Xenc =enc.fit_transform(X)\n",
    "        return [Xenc,Y1,Y2]\n",
    "    else:\n",
    "        del df_train['cm_key']\n",
    "        df_tr = df_train[df_train.columns[:43]]\n",
    "        X = df_tr.to_dict('records')\n",
    "        from sklearn.feature_extraction import DictVectorizer\n",
    "        enc = DictVectorizer()\n",
    "        Xenc =enc.fit_transform(X)\n",
    "        return [Xenc]\n",
    "\n",
    "def encoding2(df_train):\n",
    "    X = []\n",
    "    if 'target_1' in df_train.columns:\n",
    "        Y1 = df_train['target_1'].values\n",
    "        Y2 = df_train['target_2'].values\n",
    "        del df_train['target_2']\n",
    "        del df_train['target_1']\n",
    "        del df_train['cm_key']\n",
    "        df_tr = df_train[df_train.columns[:43]]\n",
    "        X = df_tr.to_dict('records')\n",
    "        from sklearn.feature_extraction import DictVectorizer\n",
    "        enc = DictVectorizer()\n",
    "        Xenc =enc.fit_transform(X)\n",
    "        return [Xenc,Y1,Y2]\n",
    "    else:\n",
    "        df_tr = df_train[df_train.columns[:43]]\n",
    "        X = df_tr.to_dict('records')\n",
    "        from sklearn.feature_extraction import DictVectorizer\n",
    "        enc = DictVectorizer()\n",
    "        Xenc =enc.fit_transform(X)\n",
    "        return [Xenc]    \n",
    "    \n",
    "    \n",
    "import pandas\n",
    "df_train = pandas.read_csv('AMTRAIN.csv')#pandas.read_csv('AMTRAIN.csv')\n",
    "df_test = pandas.read_csv('AMVALID.csv')\n",
    "df_valid = pandas.read_csv('Leaderboard_Dataset.csv')#pandas.read_csv('AMVALID.csv')\n",
    "Key1 = df_valid['cm_key'].values\n",
    "\n",
    "cols = [\n",
    " 'cm_key',\n",
    " 'mvar1',\n",
    " 'mvar2',\n",
    " 'mvar4',\n",
    " 'mvar5',\n",
    " 'mvar6',\n",
    " 'mvar7',\n",
    " 'mvar8',\n",
    " 'mvar10',\n",
    " 'mvar11',\n",
    " 'mvar12',\n",
    " 'mvar13',\n",
    " 'mvar14',\n",
    " 'mvar15',\n",
    " 'mvar16',\n",
    " 'mvar17',\n",
    " 'mvar18',\n",
    " 'mvar19',\n",
    " 'mvar20',\n",
    " 'mvar21',\n",
    " 'mvar22',\n",
    " 'mvar23',\n",
    " 'mvar24',\n",
    " 'mvar25',\n",
    " 'mvar26',\n",
    " 'mvar27',\n",
    "  'mvar28',\n",
    " 'mvar29',\n",
    " 'mvar30',\n",
    " 'mvar31',\n",
    " 'mvar32',\n",
    " 'mvar33',\n",
    " 'mvar34',\n",
    " 'mvar35',\n",
    " 'mvar36',\n",
    " 'mvar37',\n",
    " 'mvar38',\n",
    " 'mvar39',\n",
    " 'mvar40',\n",
    " 'mvar41',\n",
    " 'mvar42',\n",
    " 'mvar43',\n",
    " 'mvar44',\n",
    " 'mvar45',\n",
    "       ]\n",
    "df_train = pandas.concat([df_train,df_test])\n",
    "df_train = df_train[cols+[ 'target_1', 'target_2']]\n",
    "df_valid = df_valid[cols]\n",
    "#df_test = df_test[cols]\n",
    "\n",
    "df_train = Prepro(df_train)\n",
    "df_valid = Prepro(df_valid)\n",
    "train = encoding(df_train)\n",
    "valid = encoding(df_valid)\n",
    "X_tr = train[0]\n",
    "Y_tr_1  = train[1]\n",
    "Y_tr_2  = train[2]\n",
    "X_va = valid[0]\n",
    "\n",
    "\n",
    "# #Feature Union\n",
    "Y = Y_tr_2\n",
    "# pca = PCA(n_components=3)\n",
    "# selection = SelectKBest(k=25)\n",
    "# modelused = FeatureUnion([(\"pca\", pca), (\"univ_select\", selection)])\n",
    "# X_TR = modelused.fit(X_tr.toarray(), Y).transform(X_tr.toarray())\n",
    "# X_VA = modelused.fit(X_tr.toarray(), Y).transform(X_va.toarray())\n",
    "\n",
    "X_TR = X_tr\n",
    "X_VA = X_va\n",
    "\n"
   ]
  },
  {
   "cell_type": "code",
   "execution_count": 14,
   "metadata": {},
   "outputs": [
    {
     "data": {
      "text/plain": [
       "CalibratedClassifierCV(base_estimator=GradientBoostingClassifier(criterion='friedman_mse', init=None,\n",
       "              learning_rate=0.1, loss='deviance', max_depth=3,\n",
       "              max_features=None, max_leaf_nodes=None,\n",
       "              min_impurity_split=1e-07, min_samples_leaf=1,\n",
       "              min_samples_split=2, min_weight_fraction_leaf=0.0,\n",
       "              n_estimators=100, presort='auto', random_state=None,\n",
       "              subsample=1.0, verbose=0, warm_start=False),\n",
       "            cv='prefit', method='sigmoid')"
      ]
     },
     "execution_count": 14,
     "metadata": {},
     "output_type": "execute_result"
    }
   ],
   "source": [
    "clf = GradientBoostingClassifier()\n",
    "clf.fit(X_tr,Y_tr_1)\n",
    "from sklearn.calibration import CalibratedClassifierCV\n",
    "\n",
    "sig_clf = CalibratedClassifierCV(clf, method=\"sigmoid\", cv=\"prefit\")\n",
    "sig_clf.fit(X_tr.toarray(), Y_tr_1)"
   ]
  },
  {
   "cell_type": "code",
   "execution_count": 15,
   "metadata": {
    "collapsed": true
   },
   "outputs": [],
   "source": [
    "df_valid['proba'] = sig_clf.predict_proba(X_VA.toarray()).T[1]\n",
    "df_valid['KEY'] = Key1\n",
    "df_valid = df_valid.sort_values(['proba'], ascending=False)\n",
    "df_valid2 = df_valid[:1000]\n",
    "Key2 = df_valid2['KEY'].values\n",
    "del df_valid2['KEY']\n",
    "del df_valid2['proba']\n",
    "\n",
    "df_train['Tar'] = Y_tr_2\n",
    "df_train['T'] = Y_tr_1\n",
    "df_train2 = df_train[df_train['T'] ==1]\n",
    "Y_2  = df_train2['Tar'].values\n",
    "\n",
    "del df_train2['T']\n",
    "del df_train2['Tar']\n",
    "\n",
    "del df_train2['mvar12']\n",
    "del df_valid2['mvar12']\n",
    "\n",
    "train = encoding2(df_train2)\n",
    "valid = encoding2(df_valid2)\n",
    "X_tr2 = train[0]\n",
    "X_va2 = valid[0]"
   ]
  },
  {
   "cell_type": "code",
   "execution_count": 16,
   "metadata": {},
   "outputs": [
    {
     "data": {
      "text/plain": [
       "OneVsOneClassifier(estimator=GradientBoostingClassifier(criterion='friedman_mse', init=None,\n",
       "              learning_rate=0.1, loss='deviance', max_depth=3,\n",
       "              max_features=None, max_leaf_nodes=None,\n",
       "              min_impurity_split=1e-07, min_samples_leaf=100,\n",
       "              min_samples_split=2, min_weight_fraction_leaf=0.0,\n",
       "              n_estimators=100, presort='auto', random_state=None,\n",
       "              subsample=1.0, verbose=0, warm_start=False),\n",
       "          n_jobs=1)"
      ]
     },
     "execution_count": 16,
     "metadata": {},
     "output_type": "execute_result"
    }
   ],
   "source": [
    "clf = OneVsOneClassifier(GradientBoostingClassifier(min_samples_leaf=100))\n",
    "clf.fit(X_tr2,Y_2)"
   ]
  },
  {
   "cell_type": "code",
   "execution_count": 17,
   "metadata": {},
   "outputs": [
    {
     "name": "stderr",
     "output_type": "stream",
     "text": [
      "C:\\Users\\user\\AppData\\Local\\Continuum\\Anaconda2\\lib\\site-packages\\ipykernel_launcher.py:1: SettingWithCopyWarning: \n",
      "A value is trying to be set on a copy of a slice from a DataFrame.\n",
      "Try using .loc[row_indexer,col_indexer] = value instead\n",
      "\n",
      "See the caveats in the documentation: http://pandas.pydata.org/pandas-docs/stable/indexing.html#indexing-view-versus-copy\n",
      "  \"\"\"Entry point for launching an IPython kernel.\n",
      "C:\\Users\\user\\AppData\\Local\\Continuum\\Anaconda2\\lib\\site-packages\\ipykernel_launcher.py:2: SettingWithCopyWarning: \n",
      "A value is trying to be set on a copy of a slice from a DataFrame.\n",
      "Try using .loc[row_indexer,col_indexer] = value instead\n",
      "\n",
      "See the caveats in the documentation: http://pandas.pydata.org/pandas-docs/stable/indexing.html#indexing-view-versus-copy\n",
      "  \n"
     ]
    }
   ],
   "source": [
    "df_valid2['KEY'] = Key2\n",
    "df_valid2['pred'] = clf.predict(X_va2.toarray())\n",
    "\n",
    "df_valid = df_valid2[['KEY','pred']]\n",
    "df_valid.to_csv('kowshik_pred17.csv',index=False,index_label=False,header=False)"
   ]
  },
  {
   "cell_type": "code",
   "execution_count": null,
   "metadata": {
    "collapsed": true
   },
   "outputs": [],
   "source": []
  },
  {
   "cell_type": "code",
   "execution_count": null,
   "metadata": {
    "collapsed": true
   },
   "outputs": [],
   "source": []
  },
  {
   "cell_type": "code",
   "execution_count": null,
   "metadata": {
    "collapsed": true
   },
   "outputs": [],
   "source": []
  },
  {
   "cell_type": "code",
   "execution_count": 83,
   "metadata": {},
   "outputs": [
    {
     "data": {
      "text/plain": [
       "<1000x72 sparse matrix of type '<type 'numpy.float64'>'\n",
       "\twith 24576 stored elements in Compressed Sparse Row format>"
      ]
     },
     "execution_count": 83,
     "metadata": {},
     "output_type": "execute_result"
    }
   ],
   "source": []
  },
  {
   "cell_type": "code",
   "execution_count": 3,
   "metadata": {
    "collapsed": true
   },
   "outputs": [],
   "source": [
    "from sklearn.tree import DecisionTreeClassifier\n",
    "from sklearn.ensemble import RandomForestClassifier,GradientBoostingClassifier,AdaBoostClassifier\n",
    "from sklearn.linear_model import LogisticRegression\n",
    "from sklearn.multiclass import OneVsRestClassifier,OneVsOneClassifier,OutputCodeClassifier\n",
    "from sklearn.multioutput import MultiOutputClassifier\n",
    "from sklearn import svm\n",
    "from sklearn.decomposition import PCA\n",
    "from sklearn.feature_selection import SelectKBest,chi2,SelectKBest,SelectFromModel\n",
    "from sklearn.pipeline import Pipeline, FeatureUnion\n",
    "from sklearn.naive_bayes import MultinomialNB,BernoulliNB\n",
    "from sklearn.linear_model import LogisticRegression\n",
    "from sklearn.tree import DecisionTreeClassifier\n",
    "from sklearn.ensemble import RandomForestClassifier,GradientBoostingClassifier\n",
    "from sklearn.model_selection import StratifiedKFold\n",
    "from sklearn.multiclass import OneVsRestClassifier,OutputCodeClassifier\n",
    "from sklearn.metrics import confusion_matrix,accuracy_score\n",
    "from collections import Counter\n",
    "from sklearn.feature_extraction import DictVectorizer"
   ]
  },
  {
   "cell_type": "code",
   "execution_count": null,
   "metadata": {
    "collapsed": true
   },
   "outputs": [],
   "source": []
  }
 ],
 "metadata": {
  "kernelspec": {
   "display_name": "Python 2",
   "language": "python",
   "name": "python2"
  },
  "language_info": {
   "codemirror_mode": {
    "name": "ipython",
    "version": 2
   },
   "file_extension": ".py",
   "mimetype": "text/x-python",
   "name": "python",
   "nbconvert_exporter": "python",
   "pygments_lexer": "ipython2",
   "version": "2.7.13"
  }
 },
 "nbformat": 4,
 "nbformat_minor": 2
}
